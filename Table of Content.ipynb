{
 "cells": [
  {
   "cell_type": "markdown",
   "metadata": {},
   "source": [
    "# House Price Analysis & Insights: Table of Contents"
   ]
  },
  {
   "cell_type": "markdown",
   "metadata": {},
   "source": [
    "<div class=\"toc\"><ul class=\"toc-item\"><li><span><a href=\"./HousePriceDatafromKingCounty.ipynb#Movie-Price-Data-from-King-County\" data-toc-modified-id=\"Movie-Price-Data-from-King-County-1\">Movie Price Data from King County</a></span><ul class=\"toc-item\"><li><span><a href=\"./HousePriceDatafromKingCounty.ipynb#Libraries-Used\" data-toc-modified-id=\"Libraries-Used-1.1\">Libraries Used</a></span></li><li><span><a href=\"./HousePriceDatafromKingCounty.ipynb#Data-Science-Lifecycle\" data-toc-modified-id=\"Data-Science-Lifecycle-1.2\">Data Science Lifecycle</a></span></li><li><span><a href=\"./HousePriceDatafromKingCounty.ipynb#Business-Understanding\" data-toc-modified-id=\"Business-Understanding-1.3\">Business Understanding</a></span><ul class=\"toc-item\"><li><span><a href=\"./HousePriceDatafromKingCounty.ipynb#Questions:\" data-toc-modified-id=\"Questions:-1.3.1\">Questions:</a></span></li><li><span><a href=\"./HousePriceDatafromKingCounty.ipynb#Objectives:\" data-toc-modified-id=\"Objectives:-1.3.2\">Objectives:</a></span></li></ul></li><li><span><a href=\"#Data-Mining\" data-toc-modified-id=\"Data-Mining-1.4\">Data Mining</a></span><ul class=\"toc-item\"><li><span><a href=\"./HousePriceDatafromKingCounty.ipynb#Importing-Data\" data-toc-modified-id=\"Importing-Data-1.4.1\">Importing Data</a></span></li></ul></li><li><span><a href=\"./HousePriceDatafromKingCounty.ipynb#Data-Cleaning\" data-toc-modified-id=\"Data-Cleaning-1.5\">Data Cleaning</a></span><ul class=\"toc-item\"><li><span><a href=\"./HousePriceDatafromKingCounty.ipynb#Duplicated-Entries\" data-toc-modified-id=\"Duplicated-Entries-1.5.1\">Duplicated Entries</a></span></li><li><span><a href=\"./HousePriceDatafromKingCounty.ipynb#Missing-Values\" data-toc-modified-id=\"Missing-Values-1.5.2\">Missing Values</a></span></li></ul></li><li><span><a href=\"./HousePriceDatafromKingCounty.ipynb#Data-Exploration\" data-toc-modified-id=\"Data-Exploration-1.6\">Data Exploration</a></span><ul class=\"toc-item\"><li><span><a href=\"./HousePriceDatafromKingCounty.ipynb#The-Discovery-of-'?'-in-Dataset\" data-toc-modified-id=\"The-Discovery-of-'?'-in-Dataset-1.6.1\">The Discovery of '?' in Dataset</a></span></li></ul></li><li><span><a href=\"./HousePriceDatafromKingCounty.ipynb#Feature-Engineering\" data-toc-modified-id=\"Feature-Engineering-1.7\">Feature Engineering</a></span><ul class=\"toc-item\"><li><span><a href=\"./HousePriceDatafromKingCounty.ipynb#Multicollinearity-of-Features\" data-toc-modified-id=\"Multicollinearity-of-Features-1.7.1\">Multicollinearity of Features</a></span></li><li><span><a href=\"./HousePriceDatafromKingCounty.ipynb#Scaling-and-Standardization-of-Variables\" data-toc-modified-id=\"Scaling-and-Standardization-of-Variables-1.7.2\">Scaling and Standardization of Variables</a></span></li><li><span><a href=\"./HousePriceDatafromKingCounty.ipynb#Identifying-Categorical-Variables\" data-toc-modified-id=\"Identifying-Categorical-Variables-1.7.3\">Identifying Categorical Variables</a></span></li><li><span><a href=\"./HousePriceDatafromKingCounty.ipynb#Transforming-Categorical-Variables\" data-toc-modified-id=\"Transforming-Categorical-Variables-1.7.4\">Transforming Categorical Variables</a></span></li><li><span><a href=\"./HousePriceDatafromKingCounty.ipynb#Continuous-variables:-Checking-Assumptions-for-Linear-Regression\" data-toc-modified-id=\"Continuous-variables:-Checking-Assumptions-for-Linear-Regression-1.7.5\">Continuous variables: Checking Assumptions for Linear Regression</a></span></li></ul></li><li><span><a href=\"./HousePriceDatafromKingCounty.ipynb#Predictive-Modeling\" data-toc-modified-id=\"Predictive-Modeling-1.8\">Predictive Modeling</a></span><ul class=\"toc-item\"><li><span><a href=\"#Feature-Ranking-with-Recursive-Feature-Elimination\" data-toc-modified-id=\"Feature-Ranking-with-Recursive-Feature-Elimination-1.8.1\">Feature Ranking with Recursive Feature Elimination</a></span></li></ul></li><li><span><a href=\"./HousePriceDatafromKingCounty.ipynb#Data-Visualization-and-Conclusion\" data-toc-modified-id=\"Data-Visualization-and-Conclusion-1.9\">Data Visualization and Conclusion</a></span><ul class=\"toc-item\"><li><span><a href=\"./HousePriceDatafromKingCounty.ipynb#Conclusion\" data-toc-modified-id=\"Conclusion-1.9.1\">Conclusion</a></span></li></ul></li><li><span><a href=\"./HousePriceDatafromKingCounty.ipynb#Resources:\" data-toc-modified-id=\"Resources:-1.10\">Resources:</a></span></li></ul></li></ul></div>"
   ]
  }
 ],
 "metadata": {
  "celltoolbar": "Raw Cell Format",
  "kernelspec": {
   "display_name": "Python [conda env:learn-env] *",
   "language": "python",
   "name": "conda-env-learn-env-py"
  },
  "language_info": {
   "codemirror_mode": {
    "name": "ipython",
    "version": 3
   },
   "file_extension": ".py",
   "mimetype": "text/x-python",
   "name": "python",
   "nbconvert_exporter": "python",
   "pygments_lexer": "ipython3",
   "version": "3.6.10"
  },
  "toc": {
   "base_numbering": 1,
   "nav_menu": {
    "height": "70px",
    "width": "275.996px"
   },
   "number_sections": false,
   "sideBar": true,
   "skip_h1_title": true,
   "title_cell": "Table of Contents",
   "title_sidebar": "Contents",
   "toc_cell": false,
   "toc_position": {
    "height": "calc(100% - 180px)",
    "left": "10px",
    "top": "150px",
    "width": "481.973px"
   },
   "toc_section_display": true,
   "toc_window_display": false
  }
 },
 "nbformat": 4,
 "nbformat_minor": 2
}
