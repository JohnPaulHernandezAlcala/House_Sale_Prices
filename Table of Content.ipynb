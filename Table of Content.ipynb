{
 "cells": [
  {
   "cell_type": "markdown",
   "metadata": {},
   "source": [
    "# House Price Analysis & Insights: Table of Contents"
   ]
  },
  {
   "cell_type": "markdown",
   "metadata": {},
   "source": [
    "## 1  [Movie Budget Data from The Numbers](./MovieBudgetData.ipynb) "
   ]
  },
  {
   "cell_type": "markdown",
   "metadata": {},
   "source": [
    "### 1.1  [Libraries Used](./MovieBudgetData.ipynb#Libraries-used)"
   ]
  },
  {
   "cell_type": "markdown",
   "metadata": {},
   "source": [
    "### 1.2  [Importing Budget Data](./MovieBudgetData.ipynb#Movie-Budget-Data)"
   ]
  },
  {
   "cell_type": "markdown",
   "metadata": {},
   "source": [
    "### 1.3  [Data Cleaning and Wrangling](./MovieBudgetData.ipynb#Data-Cleaning-and-Wrangling)"
   ]
  },
  {
   "cell_type": "markdown",
   "metadata": {},
   "source": [
    "### 1.4  [Resources](./MovieBudgetData.ipynb#Resources-used-for-development:)"
   ]
  },
  {
   "cell_type": "markdown",
   "metadata": {},
   "source": [
    "## 2  [Analysis of the Movie Budget Data](./MovieBudgetAnalysis.ipynb)"
   ]
  },
  {
   "cell_type": "markdown",
   "metadata": {},
   "source": [
    "### 2.1  [Libraries Used](./MovieBudgetAnalysis.ipynb#Libraries-used)"
   ]
  },
  {
   "cell_type": "markdown",
   "metadata": {},
   "source": [
    "### 2.2  [Import Cleaned Budget Data](./MovieBudgetAnalysis.ipynb#Import-Cleaned-Budget-Data)"
   ]
  },
  {
   "cell_type": "markdown",
   "metadata": {},
   "source": [
    "### 2.3  [Calculation of Return On Investment (R.O.I.)](./MovieBudgetAnalysis.ipynb#Return-On-Investment-(R.O.I.))"
   ]
  },
  {
   "cell_type": "markdown",
   "metadata": {},
   "source": [
    "### 2.4  [Breaking Down Release Date By Year, Season, Month, and Day](./MovieBudgetAnalysis.ipynb#Breaking-Down-Release-Date-By-Year,-Season,-Month,-and-Day)"
   ]
  },
  {
   "cell_type": "markdown",
   "metadata": {},
   "source": [
    "#### 2.4.1  [Scatter Plot of Worldwide R.O.I.](./MovieBudgetAnalysis.ipynb#Scatter-Plot-of-Worldwide-R.O.I.)"
   ]
  },
  {
   "cell_type": "markdown",
   "metadata": {},
   "source": [
    "#### 2.4.2  [Box Plot of Worldwide R.O.I.](./MovieBudgetAnalysis.ipynb#Box-Plot-of-Worldwide-R.O.I.)"
   ]
  },
  {
   "cell_type": "markdown",
   "metadata": {},
   "source": [
    "#### 2.4.3  [Bar Graph of Movies Released Based on Season](./MovieBudgetAnalysis.ipynb#Bar-Graph-of-Movies-Released-Based-on-Season)"
   ]
  },
  {
   "cell_type": "markdown",
   "metadata": {},
   "source": [
    "#### 2.4.4  [Box Plot of Release Season Vs. Worldwide R.O.I.](./MovieBudgetAnalysis.ipynb#Box-Plot-and-Violin-Plot-of-Release-Season-Vs.-Worldwide-R.O.I.)"
   ]
  },
  {
   "cell_type": "markdown",
   "metadata": {},
   "source": [
    "#### 2.4.5  [Bar Graph and Box Plot of of Selected Release Months](./MovieBudgetAnalysis.ipynb#Bar-Graph-and-Box-Plot-of-Selected-Release-Months)"
   ]
  },
  {
   "cell_type": "markdown",
   "metadata": {},
   "source": [
    "#### 2.4.6  [Box Plot and Violin Plot of Selected Release Months](./MovieBudgetAnalysis.ipynb#Box-Plot-and-Violin-Plot-of-Selected-Release-Months)"
   ]
  },
  {
   "cell_type": "markdown",
   "metadata": {},
   "source": [
    "#### 2.4.7  [Bar Graph and Box Plot of Selected Release Days Within the Selected Release Months](./MovieBudgetAnalysis.ipynb#Bar-Graph-and-Box-Plot-of-Selected-Release-Days-Within-the-Selected-Release-Months)"
   ]
  },
  {
   "cell_type": "markdown",
   "metadata": {},
   "source": [
    "#### 2.4.8  [Box Plot and Violin Plot of Selected Release Days Within the Selected Release Months](./MovieBudgetAnalysis.ipynb#Box-Plot-and-Violin-Plot-of-Selected-Release-Days-Within-the-Selected-Release-Months)"
   ]
  },
  {
   "cell_type": "markdown",
   "metadata": {},
   "source": [
    "### 2.5  [Resources](./MovieBudgetAnalysis.ipynb#Resources-used-for-development:)"
   ]
  },
  {
   "cell_type": "markdown",
   "metadata": {},
   "source": [
    "## 3  [OMDb API and Data Acquisition.ipynb](./OMDb_Data.ipynb)"
   ]
  },
  {
   "cell_type": "markdown",
   "metadata": {},
   "source": [
    "### 3.1  [Libraries Used](./OMDb_Data.ipynb#Libraries-used)"
   ]
  },
  {
   "cell_type": "markdown",
   "metadata": {},
   "source": [
    "### 3.2  [Import Cleaned Budget Data](./OMDb_Data.ipynb#Import-Cleaned-Budget-Data)"
   ]
  },
  {
   "cell_type": "markdown",
   "metadata": {},
   "source": [
    "### 3.3  [OMDb API Usage](./OMDb_Data.ipynb#OMDb-API-Usuage)"
   ]
  },
  {
   "cell_type": "markdown",
   "metadata": {},
   "source": [
    "#### 3.3.1  [Get API Key for OMDb, Set Key as Default, and Request Data From OMDb API ](./OMDb_Data.ipynb#Get-API-Key-for-OMDb,-Set-Key-as-Default,-and-Request-Data-From-OMDb-API)"
   ]
  },
  {
   "cell_type": "markdown",
   "metadata": {},
   "source": [
    "### 3.4  [Clean and Export OMDb Data](./OMDb_Data.ipynb#Clean-and-Export-OMDb-Data)"
   ]
  },
  {
   "cell_type": "markdown",
   "metadata": {},
   "source": [
    "### 3.5  [Resources](./OMDb_Data.ipynb#Resources-used-for-development:)"
   ]
  },
  {
   "cell_type": "markdown",
   "metadata": {},
   "source": [
    "## 4  [OMDb and R.O.I. Data Analysis](./OMDbBudgetDataAnalysis.ipynb)"
   ]
  },
  {
   "cell_type": "markdown",
   "metadata": {},
   "source": [
    "### 4.1  [Libraries Used](./OMDbBudgetDataAnalysis.ipynb#Libraries-used)"
   ]
  },
  {
   "cell_type": "markdown",
   "metadata": {},
   "source": [
    "### 4.2  [Bringing in OMDb and R.O.I. Data to Join into One Dataset](./OMDbBudgetDataAnalysis.ipynb#Bringing-in-OMDb-and-R.O.I.-Data-to-Merge-into-One-Dataset)"
   ]
  },
  {
   "cell_type": "markdown",
   "metadata": {},
   "source": [
    "#### 4.2.1  [Movie Budget Data: R.O.I.](./OMDbBudgetDataAnalysis.ipynb#Movie-Budget-Data:-R.O.I.)"
   ]
  },
  {
   "cell_type": "markdown",
   "metadata": {},
   "source": [
    "#### 4.2.2  [OMDb Data](./OMDbBudgetDataAnalysis.ipynb#OMDb-Data)"
   ]
  },
  {
   "cell_type": "markdown",
   "metadata": {},
   "source": [
    "#### 4.2.3  [Combined Data](./OMDbBudgetDataAnalysis.ipynb#Combined-Data)"
   ]
  },
  {
   "cell_type": "markdown",
   "metadata": {},
   "source": [
    "### 4.3  [Genre Analysis](./OMDbBudgetDataAnalysis.ipynb#Genre-Analysis)"
   ]
  },
  {
   "cell_type": "markdown",
   "metadata": {},
   "source": [
    "#### 4.3.1  [Violin Plot of R.O.I.](./OMDbBudgetDataAnalysis.ipynb#Violin-Plot-of-R.O.I.)"
   ]
  },
  {
   "cell_type": "markdown",
   "metadata": {},
   "source": [
    "#### 4.3.2  [Bar Graph of Movie Genre Variations](./OMDbBudgetDataAnalysis.ipynb#Bar-Graph-of-Movie-Genre-Variations)"
   ]
  },
  {
   "cell_type": "markdown",
   "metadata": {},
   "source": [
    "#### 4.3.3  [Box Plots of Movie Genre Variations](./OMDbBudgetDataAnalysis.ipynb#Box-Plots-of-Movie-Genre-Variations)"
   ]
  },
  {
   "cell_type": "markdown",
   "metadata": {},
   "source": [
    "### 4.4  [MaturityRating Analysis](./OMDbBudgetDataAnalysis.ipynb#Maturity-Rating-Analysis)"
   ]
  },
  {
   "cell_type": "markdown",
   "metadata": {},
   "source": [
    "#### 4.4.1  [Bar Graph, Box Plot, and Violin Plot of Maturity Rating Vs. Worldwide R.O.I. and Number of Movies](./OMDbBudgetDataAnalysis.ipynb#Bar-Graph,-Box-Plot,-and-Violin-Plot-of-Maturity-Rating-Vs.-Worldwide-R.O.I.-and-Number-of-Movies)"
   ]
  },
  {
   "cell_type": "markdown",
   "metadata": {},
   "source": [
    "### 4.5  [Genre Analysis with Selected Maturity Ratings](./OMDbBudgetDataAnalysis.ipynb#Genre-Analysis-with-Selected-Maturity-Ratings)"
   ]
  },
  {
   "cell_type": "markdown",
   "metadata": {},
   "source": [
    "#### 4.5.1  [Bar Graph of Movie Genre with Selected Maturity Rating](./OMDbBudgetDataAnalysis.ipynb#Bar-Graph-of-Movie-Genre-with-Selected-Maturity-Rating)"
   ]
  },
  {
   "cell_type": "markdown",
   "metadata": {},
   "source": [
    "#### 4.5.2  [Box Plot of Movie Genre with Selected Maturity Rating](./OMDbBudgetDataAnalysis.ipynb#Box-Plot-of-Movie-Genre-with-Selected-Maturity-Rating)"
   ]
  },
  {
   "cell_type": "markdown",
   "metadata": {},
   "source": [
    "### 4.6  [Resources](./OMDbBudgetDataAnalysis.ipynb#Resources-used-for-development:)"
   ]
  },
  {
   "cell_type": "markdown",
   "metadata": {},
   "source": [
    "<div class=\"toc\"><ul class=\"toc-item\"><li><span><a href=\"./HousePriceDatafromKingCounty.ipynb#Movie-Price-Data-from-King-County\" data-toc-modified-id=\"Movie-Price-Data-from-King-County-1\">Movie Price Data from King County</a></span><ul class=\"toc-item\"><li><span><a href=\"./HousePriceDatafromKingCounty.ipynb#Libraries-Used\" data-toc-modified-id=\"Libraries-Used-1.1\">Libraries Used</a></span></li><li><span><a href=\"./HousePriceDatafromKingCounty.ipynb#Data-Science-Lifecycle\" data-toc-modified-id=\"Data-Science-Lifecycle-1.2\">Data Science Lifecycle</a></span></li><li><span><a href=\"./HousePriceDatafromKingCounty.ipynb#Business-Understanding\" data-toc-modified-id=\"Business-Understanding-1.3\">Business Understanding</a></span><ul class=\"toc-item\"><li><span><a href=\"./HousePriceDatafromKingCounty.ipynb#Questions:\" data-toc-modified-id=\"Questions:-1.3.1\">Questions:</a></span></li><li><span><a href=\"./HousePriceDatafromKingCounty.ipynb#Objectives:\" data-toc-modified-id=\"Objectives:-1.3.2\">Objectives:</a></span></li></ul></li><li><span><a href=\"#Data-Mining\" data-toc-modified-id=\"Data-Mining-1.4\">Data Mining</a></span><ul class=\"toc-item\"><li><span><a href=\"./HousePriceDatafromKingCounty.ipynb#Importing-Data\" data-toc-modified-id=\"Importing-Data-1.4.1\">Importing Data</a></span></li></ul></li><li><span><a href=\"./HousePriceDatafromKingCounty.ipynb#Data-Cleaning\" data-toc-modified-id=\"Data-Cleaning-1.5\">Data Cleaning</a></span><ul class=\"toc-item\"><li><span><a href=\"./HousePriceDatafromKingCounty.ipynb#Duplicated-Entries\" data-toc-modified-id=\"Duplicated-Entries-1.5.1\">Duplicated Entries</a></span></li><li><span><a href=\"./HousePriceDatafromKingCounty.ipynb#Missing-Values\" data-toc-modified-id=\"Missing-Values-1.5.2\">Missing Values</a></span></li></ul></li><li><span><a href=\"./HousePriceDatafromKingCounty.ipynb#Data-Exploration\" data-toc-modified-id=\"Data-Exploration-1.6\">Data Exploration</a></span><ul class=\"toc-item\"><li><span><a href=\"./HousePriceDatafromKingCounty.ipynb#The-Discovery-of-'?'-in-Dataset\" data-toc-modified-id=\"The-Discovery-of-'?'-in-Dataset-1.6.1\">The Discovery of '?' in Dataset</a></span></li></ul></li><li><span><a href=\"./HousePriceDatafromKingCounty.ipynb#Feature-Engineering\" data-toc-modified-id=\"Feature-Engineering-1.7\">Feature Engineering</a></span><ul class=\"toc-item\"><li><span><a href=\"./HousePriceDatafromKingCounty.ipynb#Multicollinearity-of-Features\" data-toc-modified-id=\"Multicollinearity-of-Features-1.7.1\">Multicollinearity of Features</a></span></li><li><span><a href=\"./HousePriceDatafromKingCounty.ipynb#Scaling-and-Standardization-of-Variables\" data-toc-modified-id=\"Scaling-and-Standardization-of-Variables-1.7.2\">Scaling and Standardization of Variables</a></span></li><li><span><a href=\"./HousePriceDatafromKingCounty.ipynb#Identifying-Categorical-Variables\" data-toc-modified-id=\"Identifying-Categorical-Variables-1.7.3\">Identifying Categorical Variables</a></span></li><li><span><a href=\"./HousePriceDatafromKingCounty.ipynb#Transforming-Categorical-Variables\" data-toc-modified-id=\"Transforming-Categorical-Variables-1.7.4\">Transforming Categorical Variables</a></span></li><li><span><a href=\"./HousePriceDatafromKingCounty.ipynb#Continuous-variables:-Checking-Assumptions-for-Linear-Regression\" data-toc-modified-id=\"Continuous-variables:-Checking-Assumptions-for-Linear-Regression-1.7.5\">Continuous variables: Checking Assumptions for Linear Regression</a></span></li></ul></li><li><span><a href=\"./HousePriceDatafromKingCounty.ipynb#Predictive-Modeling\" data-toc-modified-id=\"Predictive-Modeling-1.8\">Predictive Modeling</a></span><ul class=\"toc-item\"><li><span><a href=\"#Feature-Ranking-with-Recursive-Feature-Elimination\" data-toc-modified-id=\"Feature-Ranking-with-Recursive-Feature-Elimination-1.8.1\">Feature Ranking with Recursive Feature Elimination</a></span></li></ul></li><li><span><a href=\"./HousePriceDatafromKingCounty.ipynb#Data-Visualization-and-Conclusion\" data-toc-modified-id=\"Data-Visualization-and-Conclusion-1.9\">Data Visualization and Conclusion</a></span><ul class=\"toc-item\"><li><span><a href=\"./HousePriceDatafromKingCounty.ipynb#Conclusion\" data-toc-modified-id=\"Conclusion-1.9.1\">Conclusion</a></span></li></ul></li><li><span><a href=\"./HousePriceDatafromKingCounty.ipynb#Resources:\" data-toc-modified-id=\"Resources:-1.10\">Resources:</a></span></li></ul></li></ul></div>"
   ]
  }
 ],
 "metadata": {
  "celltoolbar": "Raw Cell Format",
  "kernelspec": {
   "display_name": "Python [conda env:learn-env] *",
   "language": "python",
   "name": "conda-env-learn-env-py"
  },
  "language_info": {
   "codemirror_mode": {
    "name": "ipython",
    "version": 3
   },
   "file_extension": ".py",
   "mimetype": "text/x-python",
   "name": "python",
   "nbconvert_exporter": "python",
   "pygments_lexer": "ipython3",
   "version": "3.6.10"
  },
  "toc": {
   "base_numbering": 1,
   "nav_menu": {
    "height": "70px",
    "width": "275.996px"
   },
   "number_sections": false,
   "sideBar": true,
   "skip_h1_title": true,
   "title_cell": "Table of Contents",
   "title_sidebar": "Contents",
   "toc_cell": false,
   "toc_position": {
    "height": "calc(100% - 180px)",
    "left": "10px",
    "top": "150px",
    "width": "481.973px"
   },
   "toc_section_display": true,
   "toc_window_display": false
  }
 },
 "nbformat": 4,
 "nbformat_minor": 2
}
